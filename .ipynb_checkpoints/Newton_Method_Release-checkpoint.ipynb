{
 "cells": [
  {
   "cell_type": "code",
   "execution_count": 1,
   "metadata": {},
   "outputs": [],
   "source": [
    "import math"
   ]
  },
  {
   "cell_type": "code",
   "execution_count": 2,
   "metadata": {},
   "outputs": [],
   "source": [
    "#функция\n",
    "def F(x):\n",
    "    # return math.sqrt(x+1) + math.sqrt(3*x+1)-8\n",
    "    return math.cos(x)-x**3"
   ]
  },
  {
   "cell_type": "code",
   "execution_count": 3,
   "metadata": {},
   "outputs": [],
   "source": [
    "def solve(F, x0, h = 0.2, eps = 0.0001):\n",
    "    xn = F(x0)\n",
    "    xn1 = xn-F(xn)/((F(xn + h) - F(xn)) / h) # первое приближение\n",
    "    while abs(xn1-xn)>eps:\n",
    "        xn = xn1\n",
    "        xn1 = xn-F(xn)/((F(xn + h) - F(xn)) / h) # последующие приближения\n",
    "    return xn1"
   ]
  },
  {
   "cell_type": "code",
   "execution_count": 4,
   "metadata": {},
   "outputs": [],
   "source": [
    "def main():\n",
    "    #a, b = float(input(\"Введите начальную точку: \")), float(input(\"Введите b: \"))\n",
    "    a = -15\n",
    "    b = 15\n",
    "\n",
    "    h = 0.2\n",
    "    x = a\n",
    "    \n",
    "    if b is None:\n",
    "        b1 = solve(F, x)\n",
    "        print(\"x= \", b1)\n",
    "        print(\"F(x)= \", F(b1))        \n",
    "    else:\n",
    "        check = False\n",
    "        while(x<=b-h):\n",
    "            F1 = F(x)\n",
    "            F2 = F(x + h)\n",
    "            if (F1*F2 <= 0):\n",
    "                b1 = solve(F, x)\n",
    "                print(\"x= \", b1)\n",
    "                print(\"F(x)= \", F(b1))\n",
    "                print(\"\\n\")\n",
    "                check = True\n",
    "            x += h\n",
    "\n",
    "        if not check: \n",
    "            print(\"Нет корней\")"
   ]
  },
  {
   "cell_type": "code",
   "execution_count": 5,
   "metadata": {},
   "outputs": [
    {
     "name": "stdout",
     "output_type": "stream",
     "text": [
      "x=  0.8654847342112717\n",
      "F(x)=  -3.219503549400926e-05\n",
      "\n",
      "\n"
     ]
    }
   ],
   "source": [
    "if __name__ == '__main__':\n",
    "    main()"
   ]
  }
 ],
 "metadata": {
  "kernelspec": {
   "display_name": "Python 3",
   "language": "python",
   "name": "python3"
  },
  "language_info": {
   "codemirror_mode": {
    "name": "ipython",
    "version": 3
   },
   "file_extension": ".py",
   "mimetype": "text/x-python",
   "name": "python",
   "nbconvert_exporter": "python",
   "pygments_lexer": "ipython3",
   "version": "3.7.3rc1"
  }
 },
 "nbformat": 4,
 "nbformat_minor": 2
}
