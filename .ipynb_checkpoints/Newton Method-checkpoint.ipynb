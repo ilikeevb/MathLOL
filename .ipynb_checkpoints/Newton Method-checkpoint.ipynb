{
 "cells": [
  {
   "cell_type": "code",
   "execution_count": 1,
   "metadata": {},
   "outputs": [],
   "source": [
    "import math"
   ]
  },
  {
   "cell_type": "code",
   "execution_count": 2,
   "metadata": {},
   "outputs": [],
   "source": [
    "#функция\n",
    "def F(x):\n",
    "    return math.sqrt(x+1) + math.sqrt(3*x+1)-8\n",
    " \n",
    "#производная\n",
    "def dF(x):\n",
    "    return 3/(2*math.sqrt(3*x+1))+1/(2*math.sqrt(x+1))"
   ]
  },
  {
   "cell_type": "code",
   "execution_count": 3,
   "metadata": {},
   "outputs": [],
   "source": [
    "def solve(F, dF, a, b, eps = 0.000001):\n",
    "    x0 = (a+b)/2\n",
    "    \n",
    "    xn = F(x0)\n",
    "    xn1 = xn-F(xn)/dF(xn) # первое приближение\n",
    "    while abs(xn1-xn)>eps:\n",
    "        xn = xn1\n",
    "        xn1 = xn-F(xn)/dF(xn) # последующие приближения\n",
    "    return xn1"
   ]
  },
  {
   "cell_type": "code",
   "execution_count": 4,
   "metadata": {},
   "outputs": [],
   "source": [
    "def main():\n",
    "    a, b = float(input(\"Введите начальную точку: \")), float(input(\"Введите b: \"))\n",
    "    result = solve(F, dF, a, b)\n",
    "    print(result)"
   ]
  },
  {
   "cell_type": "code",
   "execution_count": 5,
   "metadata": {},
   "outputs": [
    {
     "name": "stdout",
     "output_type": "stream",
     "text": [
      "Введите начальную точку: 10\n",
      "Введите b: 15\n",
      "7.999999999999999\n"
     ]
    }
   ],
   "source": [
    "if __name__ == '__main__':\n",
    "    main()"
   ]
  },
  {
   "cell_type": "code",
   "execution_count": null,
   "metadata": {},
   "outputs": [],
   "source": []
  }
 ],
 "metadata": {
  "kernelspec": {
   "display_name": "Python 3",
   "language": "python",
   "name": "python3"
  },
  "language_info": {
   "codemirror_mode": {
    "name": "ipython",
    "version": 3
   },
   "file_extension": ".py",
   "mimetype": "text/x-python",
   "name": "python",
   "nbconvert_exporter": "python",
   "pygments_lexer": "ipython3",
   "version": "3.7.3rc1"
  }
 },
 "nbformat": 4,
 "nbformat_minor": 2
}
